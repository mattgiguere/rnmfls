{
 "metadata": {
  "name": ""
 },
 "nbformat": 3,
 "nbformat_minor": 0,
 "worksheets": [
  {
   "cells": [
    {
     "cell_type": "heading",
     "level": 1,
     "metadata": {},
     "source": [
      "rnm"
     ]
    },
    {
     "cell_type": "raw",
     "metadata": {},
     "source": [
      "This notebook describes the renaming routine"
     ]
    },
    {
     "cell_type": "code",
     "collapsed": false,
     "input": [
      "execute = 1\n",
      "import subprocess\n",
      "dir = '/raw/yddf/140306/'\n",
      "fls = subprocess.check_output([\"ls\", \"-1\", dir])\n",
      "flsa = fls.split('\\n')\n",
      "flsa = flsa[0:len(flsa)-1]"
     ],
     "language": "python",
     "metadata": {},
     "outputs": [],
     "prompt_number": 156
    },
    {
     "cell_type": "code",
     "collapsed": false,
     "input": [
      "print flsa"
     ],
     "language": "python",
     "metadata": {},
     "outputs": [
      {
       "output_type": "stream",
       "stream": "stdout",
       "text": [
        "['yddf140306.S1000.FIT', 'yddf140306.S1001.FIT', 'yddf140306.S1002.FIT', 'yddf140306.S1003.FIT', 'yddf140306.S1004.FIT', 'yddf140306.S2000.FIT', 'yddf140306.S2001.FIT', 'yddf140306.S2002.FIT', 'yddf140306.S2003.FIT', 'yddf140306.S2004.FIT', 'yddf140306.S3000.FIT', 'yddf140306.S3001.FIT', 'yddf140306.S3002.FIT', 'yddf140306.S3003.FIT', 'yddf140306.S3004.FIT']\n"
       ]
      }
     ],
     "prompt_number": 157
    },
    {
     "cell_type": "code",
     "collapsed": false,
     "input": [
      "oldformat = ['yddf140306.','S','var','.FIT']\n",
      "newformat = ['yddf140306.', '', 'var', '.fits']\n",
      "\n",
      "for i in flsa:\n",
      "    print i\n"
     ],
     "language": "python",
     "metadata": {},
     "outputs": [
      {
       "output_type": "stream",
       "stream": "stdout",
       "text": [
        "yddf140306.S1000.FIT\n",
        "yddf140306.S1001.FIT\n",
        "yddf140306.S1002.FIT\n",
        "yddf140306.S1003.FIT\n",
        "yddf140306.S1004.FIT\n",
        "yddf140306.S2000.FIT\n",
        "yddf140306.S2001.FIT\n",
        "yddf140306.S2002.FIT\n",
        "yddf140306.S2003.FIT\n",
        "yddf140306.S2004.FIT\n",
        "yddf140306.S3000.FIT\n",
        "yddf140306.S3001.FIT\n",
        "yddf140306.S3002.FIT\n",
        "yddf140306.S3003.FIT\n",
        "yddf140306.S3004.FIT\n"
       ]
      }
     ],
     "prompt_number": 158
    },
    {
     "cell_type": "code",
     "collapsed": false,
     "input": [
      "substr = 'var'\n",
      "idx = -1\n",
      "for i in range(len(oldformat)):\n",
      "    if oldformat[i] == 'var':\n",
      "        if newformat[i] == 'var':\n",
      "            idx = [idx, i]\n",
      "        else:\n",
      "            print \"WARNING! var in new and old format must be in same location!\"\n",
      "        \n",
      "idx = idx[1::]"
     ],
     "language": "python",
     "metadata": {},
     "outputs": [],
     "prompt_number": 159
    },
    {
     "cell_type": "code",
     "collapsed": false,
     "input": [
      "def find_between( s, first, last ):\n",
      "    try:\n",
      "        start = s.index( first ) + len( first )\n",
      "        end = s.index( last, start )\n",
      "        return s[start:end]\n",
      "    except ValueError:\n",
      "        return \"\""
     ],
     "language": "python",
     "metadata": {},
     "outputs": [],
     "prompt_number": 160
    },
    {
     "cell_type": "code",
     "collapsed": false,
     "input": [
      "flsan = []\n",
      "for i in flsa:\n",
      "    print i\n",
      "    flsan.append(i)"
     ],
     "language": "python",
     "metadata": {},
     "outputs": [
      {
       "output_type": "stream",
       "stream": "stdout",
       "text": [
        "yddf140306.S1000.FIT\n",
        "yddf140306.S1001.FIT\n",
        "yddf140306.S1002.FIT\n",
        "yddf140306.S1003.FIT\n",
        "yddf140306.S1004.FIT\n",
        "yddf140306.S2000.FIT\n",
        "yddf140306.S2001.FIT\n",
        "yddf140306.S2002.FIT\n",
        "yddf140306.S2003.FIT\n",
        "yddf140306.S2004.FIT\n",
        "yddf140306.S3000.FIT\n",
        "yddf140306.S3001.FIT\n",
        "yddf140306.S3002.FIT\n",
        "yddf140306.S3003.FIT\n",
        "yddf140306.S3004.FIT\n"
       ]
      }
     ],
     "prompt_number": 161
    },
    {
     "cell_type": "code",
     "collapsed": false,
     "input": [
      "print flsan"
     ],
     "language": "python",
     "metadata": {},
     "outputs": [
      {
       "output_type": "stream",
       "stream": "stdout",
       "text": [
        "['yddf140306.S1000.FIT', 'yddf140306.S1001.FIT', 'yddf140306.S1002.FIT', 'yddf140306.S1003.FIT', 'yddf140306.S1004.FIT', 'yddf140306.S2000.FIT', 'yddf140306.S2001.FIT', 'yddf140306.S2002.FIT', 'yddf140306.S2003.FIT', 'yddf140306.S2004.FIT', 'yddf140306.S3000.FIT', 'yddf140306.S3001.FIT', 'yddf140306.S3002.FIT', 'yddf140306.S3003.FIT', 'yddf140306.S3004.FIT']\n"
       ]
      }
     ],
     "prompt_number": 162
    },
    {
     "cell_type": "code",
     "collapsed": false,
     "input": [
      "if len(idx) >= 1:\n",
      "    print 'length of idx was >= 1.'\n",
      "    for g in range(len(flsa)):\n",
      "        print g, flsa[g]\n",
      "    print '****************************************'\n",
      "    for h in idx:\n",
      "        for i in range(len(flsa)):\n",
      "            #print flsa[i], oldformat[h-1], oldformat[h+1]\n",
      "            vart = find_between(flsa[i], oldformat[h-1], oldformat[h+1])\n",
      "            newstring = newformat\n",
      "            newstring[h] = vart\n",
      "            print vart, ''.join(newstring)\n",
      "            flsan[i] = ''.join(newstring)\n",
      "            \n",
      "\n",
      "        "
     ],
     "language": "python",
     "metadata": {},
     "outputs": [
      {
       "output_type": "stream",
       "stream": "stdout",
       "text": [
        "length of idx was >= 1.\n",
        "0 yddf140306.S1000.FIT\n",
        "1 yddf140306.S1001.FIT\n",
        "2 yddf140306.S1002.FIT\n",
        "3 yddf140306.S1003.FIT\n",
        "4 yddf140306.S1004.FIT\n",
        "5 yddf140306.S2000.FIT\n",
        "6 yddf140306.S2001.FIT\n",
        "7 yddf140306.S2002.FIT\n",
        "8 yddf140306.S2003.FIT\n",
        "9 yddf140306.S2004.FIT\n",
        "10 yddf140306.S3000.FIT\n",
        "11 yddf140306.S3001.FIT\n",
        "12 yddf140306.S3002.FIT\n",
        "13 yddf140306.S3003.FIT\n",
        "14 yddf140306.S3004.FIT\n",
        "****************************************\n",
        "1000 yddf140306.1000.fits\n",
        "1001 yddf140306.1001.fits\n",
        "1002 yddf140306.1002.fits\n",
        "1003 yddf140306.1003.fits\n",
        "1004 yddf140306.1004.fits\n",
        "2000 yddf140306.2000.fits\n",
        "2001 yddf140306.2001.fits\n",
        "2002 yddf140306.2002.fits\n",
        "2003 yddf140306.2003.fits\n",
        "2004 yddf140306.2004.fits\n",
        "3000 yddf140306.3000.fits\n",
        "3001 yddf140306.3001.fits\n",
        "3002 yddf140306.3002.fits\n",
        "3003 yddf140306.3003.fits\n",
        "3004 yddf140306.3004.fits\n"
       ]
      }
     ],
     "prompt_number": 163
    },
    {
     "cell_type": "code",
     "collapsed": false,
     "input": [
      "print len(flsa)\n",
      "print len(flsan)"
     ],
     "language": "python",
     "metadata": {},
     "outputs": [
      {
       "output_type": "stream",
       "stream": "stdout",
       "text": [
        "15\n",
        "15\n"
       ]
      }
     ],
     "prompt_number": 164
    },
    {
     "cell_type": "code",
     "collapsed": false,
     "input": [
      "print flsa"
     ],
     "language": "python",
     "metadata": {},
     "outputs": [
      {
       "output_type": "stream",
       "stream": "stdout",
       "text": [
        "['yddf140306.S1000.FIT', 'yddf140306.S1001.FIT', 'yddf140306.S1002.FIT', 'yddf140306.S1003.FIT', 'yddf140306.S1004.FIT', 'yddf140306.S2000.FIT', 'yddf140306.S2001.FIT', 'yddf140306.S2002.FIT', 'yddf140306.S2003.FIT', 'yddf140306.S2004.FIT', 'yddf140306.S3000.FIT', 'yddf140306.S3001.FIT', 'yddf140306.S3002.FIT', 'yddf140306.S3003.FIT', 'yddf140306.S3004.FIT']\n"
       ]
      }
     ],
     "prompt_number": 165
    },
    {
     "cell_type": "code",
     "collapsed": false,
     "input": [
      "print flsan"
     ],
     "language": "python",
     "metadata": {},
     "outputs": [
      {
       "output_type": "stream",
       "stream": "stdout",
       "text": [
        "['yddf140306.1000.fits', 'yddf140306.1001.fits', 'yddf140306.1002.fits', 'yddf140306.1003.fits', 'yddf140306.1004.fits', 'yddf140306.2000.fits', 'yddf140306.2001.fits', 'yddf140306.2002.fits', 'yddf140306.2003.fits', 'yddf140306.2004.fits', 'yddf140306.3000.fits', 'yddf140306.3001.fits', 'yddf140306.3002.fits', 'yddf140306.3003.fits', 'yddf140306.3004.fits']\n"
       ]
      }
     ],
     "prompt_number": 166
    },
    {
     "cell_type": "code",
     "collapsed": false,
     "input": [
      "for i in range(len(flsa)):\n",
      "    cmd = 'mv '+flsa[i]+' '+flsan[i]\n",
      "    if \n",
      "    print cmd\n",
      "    "
     ],
     "language": "python",
     "metadata": {},
     "outputs": [
      {
       "output_type": "stream",
       "stream": "stdout",
       "text": [
        "mv yddf140306.S1000.FIT yddf140306.1000.fits\n",
        "mv yddf140306.S1001.FIT yddf140306.1001.fits\n",
        "mv yddf140306.S1002.FIT yddf140306.1002.fits\n",
        "mv yddf140306.S1003.FIT yddf140306.1003.fits\n",
        "mv yddf140306.S1004.FIT yddf140306.1004.fits\n",
        "mv yddf140306.S2000.FIT yddf140306.2000.fits\n",
        "mv yddf140306.S2001.FIT yddf140306.2001.fits\n",
        "mv yddf140306.S2002.FIT yddf140306.2002.fits\n",
        "mv yddf140306.S2003.FIT yddf140306.2003.fits\n",
        "mv yddf140306.S2004.FIT yddf140306.2004.fits\n",
        "mv yddf140306.S3000.FIT yddf140306.3000.fits\n",
        "mv yddf140306.S3001.FIT yddf140306.3001.fits\n",
        "mv yddf140306.S3002.FIT yddf140306.3002.fits\n",
        "mv yddf140306.S3003.FIT yddf140306.3003.fits\n",
        "mv yddf140306.S3004.FIT yddf140306.3004.fits\n"
       ]
      }
     ],
     "prompt_number": 167
    },
    {
     "cell_type": "code",
     "collapsed": false,
     "input": [],
     "language": "python",
     "metadata": {},
     "outputs": []
    }
   ],
   "metadata": {}
  }
 ]
}