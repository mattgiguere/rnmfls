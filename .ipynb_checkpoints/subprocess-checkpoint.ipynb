{
 "metadata": {
  "name": ""
 },
 "nbformat": 3,
 "nbformat_minor": 0,
 "worksheets": [
  {
   "cells": [
    {
     "cell_type": "code",
     "collapsed": false,
     "input": [
      "import subprocess"
     ],
     "language": "python",
     "metadata": {},
     "outputs": [],
     "prompt_number": 1
    },
    {
     "cell_type": "code",
     "collapsed": false,
     "input": [
      "fls = subprocess.check_output([\"ls\", \"-1\", \"/Users/matt/\"])"
     ],
     "language": "python",
     "metadata": {},
     "outputs": [],
     "prompt_number": 34
    },
    {
     "cell_type": "code",
     "collapsed": false,
     "input": [
      "print fls"
     ],
     "language": "python",
     "metadata": {},
     "outputs": [
      {
       "output_type": "stream",
       "stream": "stdout",
       "text": [
        "AeroFS\n",
        "Applications\n",
        "Applications (Parallels)\n",
        "Box\n",
        "Data_archive\n",
        "Desktop\n",
        "Distribution\n",
        "Documents\n",
        "Downloads\n",
        "Dropbox\n",
        "Library\n",
        "Movies\n",
        "Music\n",
        "Pictures\n",
        "Public\n",
        "Sites\n",
        "astroML_data\n",
        "data\n",
        "exolib\n",
        "gDrive\n",
        "idl\n",
        "kfme_output\n",
        "plots\n",
        "projects\n",
        "sme\n",
        "\n"
       ]
      }
     ],
     "prompt_number": 35
    },
    {
     "cell_type": "code",
     "collapsed": false,
     "input": [
      "print len(fls[1])"
     ],
     "language": "python",
     "metadata": {},
     "outputs": [
      {
       "output_type": "stream",
       "stream": "stdout",
       "text": [
        "1\n"
       ]
      }
     ],
     "prompt_number": 39
    }
   ],
   "metadata": {}
  }
 ]
}