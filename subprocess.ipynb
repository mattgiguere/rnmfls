{
 "metadata": {
  "name": ""
 },
 "nbformat": 3,
 "nbformat_minor": 0,
 "worksheets": [
  {
   "cells": [
    {
     "cell_type": "code",
     "collapsed": false,
     "input": [
      "import subprocess"
     ],
     "language": "python",
     "metadata": {},
     "outputs": [],
     "prompt_number": 1
    },
    {
     "cell_type": "code",
     "collapsed": false,
     "input": [
      "fls = subprocess.check_output([\"ls\", \"-1\", \"/Users/matt/\"])"
     ],
     "language": "python",
     "metadata": {},
     "outputs": [],
     "prompt_number": 2
    },
    {
     "cell_type": "code",
     "collapsed": false,
     "input": [
      "print fls"
     ],
     "language": "python",
     "metadata": {},
     "outputs": [
      {
       "output_type": "stream",
       "stream": "stdout",
       "text": [
        "AeroFS\n",
        "Applications\n",
        "Applications (Parallels)\n",
        "Box\n",
        "Data_archive\n",
        "Desktop\n",
        "Distribution\n",
        "Documents\n",
        "Downloads\n",
        "Dropbox\n",
        "Library\n",
        "Movies\n",
        "Music\n",
        "Pictures\n",
        "Public\n",
        "Sites\n",
        "astroML_data\n",
        "data\n",
        "exolib\n",
        "gDrive\n",
        "idl\n",
        "kfme_output\n",
        "plots\n",
        "projects\n",
        "sme\n",
        "\n"
       ]
      }
     ],
     "prompt_number": 3
    },
    {
     "cell_type": "code",
     "collapsed": false,
     "input": [
      "print len(fls[1])"
     ],
     "language": "python",
     "metadata": {},
     "outputs": [
      {
       "output_type": "stream",
       "stream": "stdout",
       "text": [
        "1\n"
       ]
      }
     ],
     "prompt_number": 13
    },
    {
     "cell_type": "code",
     "collapsed": false,
     "input": [
      "print fls"
     ],
     "language": "python",
     "metadata": {},
     "outputs": [
      {
       "output_type": "stream",
       "stream": "stdout",
       "text": [
        "AeroFS\n",
        "Applications\n",
        "Applications (Parallels)\n",
        "Box\n",
        "Data_archive\n",
        "Desktop\n",
        "Distribution\n",
        "Documents\n",
        "Downloads\n",
        "Dropbox\n",
        "Library\n",
        "Movies\n",
        "Music\n",
        "Pictures\n",
        "Public\n",
        "Sites\n",
        "astroML_data\n",
        "data\n",
        "exolib\n",
        "gDrive\n",
        "idl\n",
        "kfme_output\n",
        "plots\n",
        "projects\n",
        "sme\n",
        "\n"
       ]
      }
     ],
     "prompt_number": 14
    },
    {
     "cell_type": "code",
     "collapsed": false,
     "input": [
      "fls[0:9]"
     ],
     "language": "python",
     "metadata": {},
     "outputs": [
      {
       "metadata": {},
       "output_type": "pyout",
       "prompt_number": 16,
       "text": [
        "'AeroFS\\nAp'"
       ]
      }
     ],
     "prompt_number": 16
    },
    {
     "cell_type": "code",
     "collapsed": false,
     "input": [
      "flsa = fls.split('\\n')"
     ],
     "language": "python",
     "metadata": {},
     "outputs": [],
     "prompt_number": 17
    },
    {
     "cell_type": "code",
     "collapsed": false,
     "input": [
      "print flsa[0]"
     ],
     "language": "python",
     "metadata": {},
     "outputs": [
      {
       "output_type": "stream",
       "stream": "stdout",
       "text": [
        "AeroFS\n"
       ]
      }
     ],
     "prompt_number": 19
    },
    {
     "cell_type": "code",
     "collapsed": false,
     "input": [
      "print flsa"
     ],
     "language": "python",
     "metadata": {},
     "outputs": [
      {
       "output_type": "stream",
       "stream": "stdout",
       "text": [
        "['AeroFS', 'Applications', 'Applications (Parallels)', 'Box', 'Data_archive', 'Desktop', 'Distribution', 'Documents', 'Downloads', 'Dropbox', 'Library', 'Movies', 'Music', 'Pictures', 'Public', 'Sites', 'astroML_data', 'data', 'exolib', 'gDrive', 'idl', 'kfme_output', 'plots', 'projects', 'sme', '']\n"
       ]
      }
     ],
     "prompt_number": 20
    },
    {
     "cell_type": "code",
     "collapsed": false,
     "input": [
      "for i in flsa:\n",
      "    print i"
     ],
     "language": "python",
     "metadata": {},
     "outputs": [
      {
       "output_type": "stream",
       "stream": "stdout",
       "text": [
        "AeroFS\n",
        "Applications\n",
        "Applications (Parallels)\n",
        "Box\n",
        "Data_archive\n",
        "Desktop\n",
        "Distribution\n",
        "Documents\n",
        "Downloads\n",
        "Dropbox\n",
        "Library\n",
        "Movies\n",
        "Music\n",
        "Pictures\n",
        "Public\n",
        "Sites\n",
        "astroML_data\n",
        "data\n",
        "exolib\n",
        "gDrive\n",
        "idl\n",
        "kfme_output\n",
        "plots\n",
        "projects\n",
        "sme\n",
        "\n"
       ]
      }
     ],
     "prompt_number": 21
    },
    {
     "cell_type": "code",
     "collapsed": false,
     "input": [],
     "language": "python",
     "metadata": {},
     "outputs": []
    }
   ],
   "metadata": {}
  }
 ]
}